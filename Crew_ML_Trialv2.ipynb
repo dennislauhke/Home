{
 "cells": [
  {
   "cell_type": "code",
   "execution_count": 3,
   "metadata": {},
   "outputs": [],
   "source": [
    "import pandas as pd\n",
    "import numpy as np\n",
    "import matplotlib.pyplot as plt\n",
    "import seaborn as sns\n",
    "%matplotlib inline"
   ]
  },
  {
   "cell_type": "code",
   "execution_count": 4,
   "metadata": {},
   "outputs": [],
   "source": [
    "from google.cloud import bigquery\n",
    "\n",
    "bqclient = bigquery.Client()\n",
    "\n",
    "query = \"\"\"\n",
    "select *\n",
    "from\n",
    "`dml-test-276409.Crew_ML_Space.Crew_ML_RawDataset`\n",
    "\"\"\"\n",
    "\n",
    "rawdataset = bqclient.query(query).to_dataframe()"
   ]
  },
  {
   "cell_type": "code",
   "execution_count": 5,
   "metadata": {},
   "outputs": [
    {
     "data": {
      "text/html": [
       "<div>\n",
       "<style scoped>\n",
       "    .dataframe tbody tr th:only-of-type {\n",
       "        vertical-align: middle;\n",
       "    }\n",
       "\n",
       "    .dataframe tbody tr th {\n",
       "        vertical-align: top;\n",
       "    }\n",
       "\n",
       "    .dataframe thead th {\n",
       "        text-align: right;\n",
       "    }\n",
       "</style>\n",
       "<table border=\"1\" class=\"dataframe\">\n",
       "  <thead>\n",
       "    <tr style=\"text-align: right;\">\n",
       "      <th></th>\n",
       "      <th>FEATURE_DOB</th>\n",
       "      <th>FEATURE_DateJoined</th>\n",
       "      <th>FEATURE_Seniority</th>\n",
       "      <th>FEATURE_PairingLabel</th>\n",
       "      <th>FEATURE_DutyStartDateTime</th>\n",
       "      <th>FEATURE_DutyStartHour</th>\n",
       "      <th>FEATURE_DutyDayOfWeek</th>\n",
       "      <th>LABEL_Swapped</th>\n",
       "      <th>FEATURE_Swapped_Count</th>\n",
       "      <th>FEATURE_Rostered_Count</th>\n",
       "      <th>FEATURE_WithCrew1_Rostered_Count</th>\n",
       "      <th>FEATURE_WithCrew2_Rostered_Count</th>\n",
       "      <th>FEATURE_WithCrew3_Rostered_Count</th>\n",
       "      <th>FEATURE_WithCrew4_Rostered_Count</th>\n",
       "      <th>FEATURE_WithCrew5_Rostered_Count</th>\n",
       "      <th>FEATURE_WithCrew1_Swapped_Count</th>\n",
       "      <th>FEATURE_WithCrew2_Swapped_Count</th>\n",
       "      <th>FEATURE_WithCrew3_Swapped_Count</th>\n",
       "      <th>FEATURE_WithCrew4_Swapped_Count</th>\n",
       "      <th>FEATURE_WithCrew5_Swapped_Count</th>\n",
       "    </tr>\n",
       "  </thead>\n",
       "  <tbody>\n",
       "    <tr>\n",
       "      <th>0</th>\n",
       "      <td>1992-09-20 16:00:00+00:00</td>\n",
       "      <td>2017-08-10 16:00:00+00:00</td>\n",
       "      <td>NaN</td>\n",
       "      <td>172</td>\n",
       "      <td>2019-01-29 15:40:00+00:00</td>\n",
       "      <td>15</td>\n",
       "      <td>3</td>\n",
       "      <td>False</td>\n",
       "      <td>22</td>\n",
       "      <td>240</td>\n",
       "      <td>9</td>\n",
       "      <td>3</td>\n",
       "      <td>1</td>\n",
       "      <td>1</td>\n",
       "      <td>4</td>\n",
       "      <td>0</td>\n",
       "      <td>1</td>\n",
       "      <td>0</td>\n",
       "      <td>0</td>\n",
       "      <td>1</td>\n",
       "    </tr>\n",
       "    <tr>\n",
       "      <th>1</th>\n",
       "      <td>1995-03-09 16:00:00+00:00</td>\n",
       "      <td>2017-06-13 16:00:00+00:00</td>\n",
       "      <td>NaN</td>\n",
       "      <td>172</td>\n",
       "      <td>2019-01-29 15:40:00+00:00</td>\n",
       "      <td>15</td>\n",
       "      <td>3</td>\n",
       "      <td>True</td>\n",
       "      <td>23</td>\n",
       "      <td>220</td>\n",
       "      <td>5</td>\n",
       "      <td>4</td>\n",
       "      <td>2</td>\n",
       "      <td>4</td>\n",
       "      <td>3</td>\n",
       "      <td>2</td>\n",
       "      <td>1</td>\n",
       "      <td>1</td>\n",
       "      <td>2</td>\n",
       "      <td>1</td>\n",
       "    </tr>\n",
       "    <tr>\n",
       "      <th>2</th>\n",
       "      <td>1991-09-01 16:00:00+00:00</td>\n",
       "      <td>2017-06-13 16:00:00+00:00</td>\n",
       "      <td>NaN</td>\n",
       "      <td>834</td>\n",
       "      <td>2019-01-06 20:45:00+00:00</td>\n",
       "      <td>20</td>\n",
       "      <td>1</td>\n",
       "      <td>False</td>\n",
       "      <td>41</td>\n",
       "      <td>241</td>\n",
       "      <td>3</td>\n",
       "      <td>1</td>\n",
       "      <td>1</td>\n",
       "      <td>2</td>\n",
       "      <td>1</td>\n",
       "      <td>0</td>\n",
       "      <td>0</td>\n",
       "      <td>0</td>\n",
       "      <td>0</td>\n",
       "      <td>0</td>\n",
       "    </tr>\n",
       "    <tr>\n",
       "      <th>3</th>\n",
       "      <td>1992-01-18 16:00:00+00:00</td>\n",
       "      <td>2018-04-10 16:00:00+00:00</td>\n",
       "      <td>NaN</td>\n",
       "      <td>834</td>\n",
       "      <td>2019-01-06 20:45:00+00:00</td>\n",
       "      <td>20</td>\n",
       "      <td>1</td>\n",
       "      <td>False</td>\n",
       "      <td>4</td>\n",
       "      <td>138</td>\n",
       "      <td>1</td>\n",
       "      <td>1</td>\n",
       "      <td>1</td>\n",
       "      <td>2</td>\n",
       "      <td>2</td>\n",
       "      <td>0</td>\n",
       "      <td>0</td>\n",
       "      <td>0</td>\n",
       "      <td>0</td>\n",
       "      <td>0</td>\n",
       "    </tr>\n",
       "    <tr>\n",
       "      <th>4</th>\n",
       "      <td>1993-11-29 16:00:00+00:00</td>\n",
       "      <td>2014-10-27 16:00:00+00:00</td>\n",
       "      <td>1.0</td>\n",
       "      <td>614</td>\n",
       "      <td>2019-01-20 06:30:00+00:00</td>\n",
       "      <td>6</td>\n",
       "      <td>1</td>\n",
       "      <td>False</td>\n",
       "      <td>10</td>\n",
       "      <td>192</td>\n",
       "      <td>1</td>\n",
       "      <td>1</td>\n",
       "      <td>2</td>\n",
       "      <td>1</td>\n",
       "      <td>2</td>\n",
       "      <td>0</td>\n",
       "      <td>0</td>\n",
       "      <td>0</td>\n",
       "      <td>0</td>\n",
       "      <td>0</td>\n",
       "    </tr>\n",
       "  </tbody>\n",
       "</table>\n",
       "</div>"
      ],
      "text/plain": [
       "                FEATURE_DOB        FEATURE_DateJoined  FEATURE_Seniority  \\\n",
       "0 1992-09-20 16:00:00+00:00 2017-08-10 16:00:00+00:00                NaN   \n",
       "1 1995-03-09 16:00:00+00:00 2017-06-13 16:00:00+00:00                NaN   \n",
       "2 1991-09-01 16:00:00+00:00 2017-06-13 16:00:00+00:00                NaN   \n",
       "3 1992-01-18 16:00:00+00:00 2018-04-10 16:00:00+00:00                NaN   \n",
       "4 1993-11-29 16:00:00+00:00 2014-10-27 16:00:00+00:00                1.0   \n",
       "\n",
       "  FEATURE_PairingLabel FEATURE_DutyStartDateTime  FEATURE_DutyStartHour  \\\n",
       "0                  172 2019-01-29 15:40:00+00:00                     15   \n",
       "1                  172 2019-01-29 15:40:00+00:00                     15   \n",
       "2                  834 2019-01-06 20:45:00+00:00                     20   \n",
       "3                  834 2019-01-06 20:45:00+00:00                     20   \n",
       "4                  614 2019-01-20 06:30:00+00:00                      6   \n",
       "\n",
       "   FEATURE_DutyDayOfWeek  LABEL_Swapped  FEATURE_Swapped_Count  \\\n",
       "0                      3          False                     22   \n",
       "1                      3           True                     23   \n",
       "2                      1          False                     41   \n",
       "3                      1          False                      4   \n",
       "4                      1          False                     10   \n",
       "\n",
       "   FEATURE_Rostered_Count  FEATURE_WithCrew1_Rostered_Count  \\\n",
       "0                     240                                 9   \n",
       "1                     220                                 5   \n",
       "2                     241                                 3   \n",
       "3                     138                                 1   \n",
       "4                     192                                 1   \n",
       "\n",
       "   FEATURE_WithCrew2_Rostered_Count  FEATURE_WithCrew3_Rostered_Count  \\\n",
       "0                                 3                                 1   \n",
       "1                                 4                                 2   \n",
       "2                                 1                                 1   \n",
       "3                                 1                                 1   \n",
       "4                                 1                                 2   \n",
       "\n",
       "   FEATURE_WithCrew4_Rostered_Count  FEATURE_WithCrew5_Rostered_Count  \\\n",
       "0                                 1                                 4   \n",
       "1                                 4                                 3   \n",
       "2                                 2                                 1   \n",
       "3                                 2                                 2   \n",
       "4                                 1                                 2   \n",
       "\n",
       "   FEATURE_WithCrew1_Swapped_Count  FEATURE_WithCrew2_Swapped_Count  \\\n",
       "0                                0                                1   \n",
       "1                                2                                1   \n",
       "2                                0                                0   \n",
       "3                                0                                0   \n",
       "4                                0                                0   \n",
       "\n",
       "   FEATURE_WithCrew3_Swapped_Count  FEATURE_WithCrew4_Swapped_Count  \\\n",
       "0                                0                                0   \n",
       "1                                1                                2   \n",
       "2                                0                                0   \n",
       "3                                0                                0   \n",
       "4                                0                                0   \n",
       "\n",
       "   FEATURE_WithCrew5_Swapped_Count  \n",
       "0                                1  \n",
       "1                                1  \n",
       "2                                0  \n",
       "3                                0  \n",
       "4                                0  "
      ]
     },
     "execution_count": 5,
     "metadata": {},
     "output_type": "execute_result"
    }
   ],
   "source": [
    "rawdataset.head()"
   ]
  },
  {
   "cell_type": "code",
   "execution_count": 6,
   "metadata": {},
   "outputs": [
    {
     "name": "stdout",
     "output_type": "stream",
     "text": [
      "<class 'pandas.core.frame.DataFrame'>\n",
      "RangeIndex: 112169 entries, 0 to 112168\n",
      "Data columns (total 20 columns):\n",
      " #   Column                            Non-Null Count   Dtype              \n",
      "---  ------                            --------------   -----              \n",
      " 0   FEATURE_DOB                       112165 non-null  datetime64[ns, UTC]\n",
      " 1   FEATURE_DateJoined                112165 non-null  datetime64[ns, UTC]\n",
      " 2   FEATURE_Seniority                 51449 non-null   float64            \n",
      " 3   FEATURE_PairingLabel              112169 non-null  object             \n",
      " 4   FEATURE_DutyStartDateTime         112169 non-null  datetime64[ns, UTC]\n",
      " 5   FEATURE_DutyStartHour             112169 non-null  int64              \n",
      " 6   FEATURE_DutyDayOfWeek             112169 non-null  int64              \n",
      " 7   LABEL_Swapped                     112169 non-null  bool               \n",
      " 8   FEATURE_Swapped_Count             112169 non-null  int64              \n",
      " 9   FEATURE_Rostered_Count            112169 non-null  int64              \n",
      " 10  FEATURE_WithCrew1_Rostered_Count  112169 non-null  int64              \n",
      " 11  FEATURE_WithCrew2_Rostered_Count  112169 non-null  int64              \n",
      " 12  FEATURE_WithCrew3_Rostered_Count  112169 non-null  int64              \n",
      " 13  FEATURE_WithCrew4_Rostered_Count  112169 non-null  int64              \n",
      " 14  FEATURE_WithCrew5_Rostered_Count  112169 non-null  int64              \n",
      " 15  FEATURE_WithCrew1_Swapped_Count   112169 non-null  int64              \n",
      " 16  FEATURE_WithCrew2_Swapped_Count   112169 non-null  int64              \n",
      " 17  FEATURE_WithCrew3_Swapped_Count   112169 non-null  int64              \n",
      " 18  FEATURE_WithCrew4_Swapped_Count   112169 non-null  int64              \n",
      " 19  FEATURE_WithCrew5_Swapped_Count   112169 non-null  int64              \n",
      "dtypes: bool(1), datetime64[ns, UTC](3), float64(1), int64(14), object(1)\n",
      "memory usage: 16.4+ MB\n"
     ]
    }
   ],
   "source": [
    "rawdataset.info()"
   ]
  },
  {
   "cell_type": "code",
   "execution_count": 7,
   "metadata": {},
   "outputs": [
    {
     "data": {
      "text/plain": [
       "<AxesSubplot:xlabel='LABEL_Swapped', ylabel='count'>"
      ]
     },
     "execution_count": 7,
     "metadata": {},
     "output_type": "execute_result"
    },
    {
     "data": {
      "image/png": "[encoded data removed]",
      "text/plain": [
       "<Figure size 432x288 with 1 Axes>"
      ]
     },
     "metadata": {
      "needs_background": "light"
     },
     "output_type": "display_data"
    }
   ],
   "source": [
    "sns.countplot(x='LABEL_Swapped',data=rawdataset)"
   ]
  },
  {
   "cell_type": "code",
   "execution_count": 8,
   "metadata": {},
   "outputs": [
    {
     "data": {
      "text/plain": [
       "<AxesSubplot:>"
      ]
     },
     "execution_count": 8,
     "metadata": {},
     "output_type": "execute_result"
    },
    {
     "data": {
      "image/png": "[encoded data removed]",
      "text/plain": [
       "<Figure size 432x288 with 1 Axes>"
      ]
     },
     "metadata": {
      "needs_background": "light"
     },
     "output_type": "display_data"
    }
   ],
   "source": [
    "sns.heatmap(rawdataset.isnull(),yticklabels=False,cbar=False,cmap='viridis')"
   ]
  },
  {
   "cell_type": "code",
   "execution_count": 9,
   "metadata": {},
   "outputs": [
    {
     "data": {
      "text/plain": [
       "FEATURE_DOB                             4\n",
       "FEATURE_DateJoined                      4\n",
       "FEATURE_Seniority                   60720\n",
       "FEATURE_PairingLabel                    0\n",
       "FEATURE_DutyStartDateTime               0\n",
       "FEATURE_DutyStartHour                   0\n",
       "FEATURE_DutyDayOfWeek                   0\n",
       "LABEL_Swapped                           0\n",
       "FEATURE_Swapped_Count                   0\n",
       "FEATURE_Rostered_Count                  0\n",
       "FEATURE_WithCrew1_Rostered_Count        0\n",
       "FEATURE_WithCrew2_Rostered_Count        0\n",
       "FEATURE_WithCrew3_Rostered_Count        0\n",
       "FEATURE_WithCrew4_Rostered_Count        0\n",
       "FEATURE_WithCrew5_Rostered_Count        0\n",
       "FEATURE_WithCrew1_Swapped_Count         0\n",
       "FEATURE_WithCrew2_Swapped_Count         0\n",
       "FEATURE_WithCrew3_Swapped_Count         0\n",
       "FEATURE_WithCrew4_Swapped_Count         0\n",
       "FEATURE_WithCrew5_Swapped_Count         0\n",
       "dtype: int64"
      ]
     },
     "execution_count": 9,
     "metadata": {},
     "output_type": "execute_result"
    }
   ],
   "source": [
    "# Look for and remove null values, they will lead to errors if fed into the model\n",
    "rawdataset.isnull().sum()"
   ]
  },
  {
   "cell_type": "code",
   "execution_count": 10,
   "metadata": {},
   "outputs": [],
   "source": [
    "traindataset = rawdataset.drop(columns='FEATURE_Seniority')"
   ]
  },
  {
   "cell_type": "code",
   "execution_count": 11,
   "metadata": {},
   "outputs": [],
   "source": [
    "traindataset.dropna(subset=['FEATURE_DOB','FEATURE_DateJoined'], inplace=True)"
   ]
  },
  {
   "cell_type": "code",
   "execution_count": 12,
   "metadata": {},
   "outputs": [
    {
     "data": {
      "text/plain": [
       "FEATURE_DOB                         0\n",
       "FEATURE_DateJoined                  0\n",
       "FEATURE_PairingLabel                0\n",
       "FEATURE_DutyStartDateTime           0\n",
       "FEATURE_DutyStartHour               0\n",
       "FEATURE_DutyDayOfWeek               0\n",
       "LABEL_Swapped                       0\n",
       "FEATURE_Swapped_Count               0\n",
       "FEATURE_Rostered_Count              0\n",
       "FEATURE_WithCrew1_Rostered_Count    0\n",
       "FEATURE_WithCrew2_Rostered_Count    0\n",
       "FEATURE_WithCrew3_Rostered_Count    0\n",
       "FEATURE_WithCrew4_Rostered_Count    0\n",
       "FEATURE_WithCrew5_Rostered_Count    0\n",
       "FEATURE_WithCrew1_Swapped_Count     0\n",
       "FEATURE_WithCrew2_Swapped_Count     0\n",
       "FEATURE_WithCrew3_Swapped_Count     0\n",
       "FEATURE_WithCrew4_Swapped_Count     0\n",
       "FEATURE_WithCrew5_Swapped_Count     0\n",
       "dtype: int64"
      ]
     },
     "execution_count": 12,
     "metadata": {},
     "output_type": "execute_result"
    }
   ],
   "source": [
    "traindataset.isnull().sum()"
   ]
  },
  {
   "cell_type": "code",
   "execution_count": 13,
   "metadata": {},
   "outputs": [
    {
     "data": {
      "text/plain": [
       "0         26.372603\n",
       "1         23.906849\n",
       "2         27.367123\n",
       "3         26.986301\n",
       "4         25.156164\n",
       "            ...    \n",
       "112164    29.079452\n",
       "112165    26.279452\n",
       "112166    40.745205\n",
       "112167    30.131507\n",
       "112168    25.073973\n",
       "Name: FEATURE_Age, Length: 112165, dtype: float64"
      ]
     },
     "execution_count": 13,
     "metadata": {},
     "output_type": "execute_result"
    }
   ],
   "source": [
    "# Convert Date of Birth to Age (in Days), model can only interpret numerical values so feeding DOB into it does not work\n",
    "\n",
    "from datetime import date\n",
    "\n",
    "traindataset['FEATURE_Age'] = traindataset['FEATURE_DutyStartDateTime'] - traindataset['FEATURE_DOB']\n",
    "traindataset['FEATURE_Age'] = traindataset['FEATURE_Age'].dt.days / 365\n",
    "traindataset['FEATURE_Age']"
   ]
  },
  {
   "cell_type": "code",
   "execution_count": 14,
   "metadata": {},
   "outputs": [
    {
     "data": {
      "text/plain": [
       "0         1.468493\n",
       "1         1.627397\n",
       "2         1.567123\n",
       "3         0.742466\n",
       "4         4.232877\n",
       "            ...   \n",
       "112164    4.947945\n",
       "112165    3.254795\n",
       "112166    3.389041\n",
       "112167    1.449315\n",
       "112168    1.449315\n",
       "Name: FEATURE_Tenure, Length: 112165, dtype: float64"
      ]
     },
     "execution_count": 14,
     "metadata": {},
     "output_type": "execute_result"
    }
   ],
   "source": [
    "# Convert Date of Joining into Tenure (in days)\n",
    "traindataset['FEATURE_Tenure'] = traindataset['FEATURE_DutyStartDateTime'] - traindataset['FEATURE_DateJoined']\n",
    "traindataset['FEATURE_Tenure'] = traindataset['FEATURE_Tenure'].dt.days / 365\n",
    "traindataset['FEATURE_Tenure']"
   ]
  },
  {
   "cell_type": "code",
   "execution_count": 15,
   "metadata": {},
   "outputs": [],
   "source": [
    "traindataset = traindataset.drop(columns=['FEATURE_DOB','FEATURE_DateJoined','FEATURE_DutyStartDateTime'])"
   ]
  },
  {
   "cell_type": "code",
   "execution_count": 16,
   "metadata": {},
   "outputs": [
    {
     "data": {
      "text/html": [
       "<div>\n",
       "<style scoped>\n",
       "    .dataframe tbody tr th:only-of-type {\n",
       "        vertical-align: middle;\n",
       "    }\n",
       "\n",
       "    .dataframe tbody tr th {\n",
       "        vertical-align: top;\n",
       "    }\n",
       "\n",
       "    .dataframe thead th {\n",
       "        text-align: right;\n",
       "    }\n",
       "</style>\n",
       "<table border=\"1\" class=\"dataframe\">\n",
       "  <thead>\n",
       "    <tr style=\"text-align: right;\">\n",
       "      <th></th>\n",
       "      <th>FEATURE_PairingLabel</th>\n",
       "      <th>FEATURE_DutyStartHour</th>\n",
       "      <th>FEATURE_DutyDayOfWeek</th>\n",
       "      <th>LABEL_Swapped</th>\n",
       "      <th>FEATURE_Swapped_Count</th>\n",
       "      <th>FEATURE_Rostered_Count</th>\n",
       "      <th>FEATURE_WithCrew1_Rostered_Count</th>\n",
       "      <th>FEATURE_WithCrew2_Rostered_Count</th>\n",
       "      <th>FEATURE_WithCrew3_Rostered_Count</th>\n",
       "      <th>FEATURE_WithCrew4_Rostered_Count</th>\n",
       "      <th>FEATURE_WithCrew5_Rostered_Count</th>\n",
       "      <th>FEATURE_WithCrew1_Swapped_Count</th>\n",
       "      <th>FEATURE_WithCrew2_Swapped_Count</th>\n",
       "      <th>FEATURE_WithCrew3_Swapped_Count</th>\n",
       "      <th>FEATURE_WithCrew4_Swapped_Count</th>\n",
       "      <th>FEATURE_WithCrew5_Swapped_Count</th>\n",
       "      <th>FEATURE_Age</th>\n",
       "      <th>FEATURE_Tenure</th>\n",
       "    </tr>\n",
       "  </thead>\n",
       "  <tbody>\n",
       "    <tr>\n",
       "      <th>0</th>\n",
       "      <td>172</td>\n",
       "      <td>15</td>\n",
       "      <td>3</td>\n",
       "      <td>False</td>\n",
       "      <td>22</td>\n",
       "      <td>240</td>\n",
       "      <td>9</td>\n",
       "      <td>3</td>\n",
       "      <td>1</td>\n",
       "      <td>1</td>\n",
       "      <td>4</td>\n",
       "      <td>0</td>\n",
       "      <td>1</td>\n",
       "      <td>0</td>\n",
       "      <td>0</td>\n",
       "      <td>1</td>\n",
       "      <td>26.372603</td>\n",
       "      <td>1.468493</td>\n",
       "    </tr>\n",
       "    <tr>\n",
       "      <th>1</th>\n",
       "      <td>172</td>\n",
       "      <td>15</td>\n",
       "      <td>3</td>\n",
       "      <td>True</td>\n",
       "      <td>23</td>\n",
       "      <td>220</td>\n",
       "      <td>5</td>\n",
       "      <td>4</td>\n",
       "      <td>2</td>\n",
       "      <td>4</td>\n",
       "      <td>3</td>\n",
       "      <td>2</td>\n",
       "      <td>1</td>\n",
       "      <td>1</td>\n",
       "      <td>2</td>\n",
       "      <td>1</td>\n",
       "      <td>23.906849</td>\n",
       "      <td>1.627397</td>\n",
       "    </tr>\n",
       "    <tr>\n",
       "      <th>2</th>\n",
       "      <td>834</td>\n",
       "      <td>20</td>\n",
       "      <td>1</td>\n",
       "      <td>False</td>\n",
       "      <td>41</td>\n",
       "      <td>241</td>\n",
       "      <td>3</td>\n",
       "      <td>1</td>\n",
       "      <td>1</td>\n",
       "      <td>2</td>\n",
       "      <td>1</td>\n",
       "      <td>0</td>\n",
       "      <td>0</td>\n",
       "      <td>0</td>\n",
       "      <td>0</td>\n",
       "      <td>0</td>\n",
       "      <td>27.367123</td>\n",
       "      <td>1.567123</td>\n",
       "    </tr>\n",
       "    <tr>\n",
       "      <th>3</th>\n",
       "      <td>834</td>\n",
       "      <td>20</td>\n",
       "      <td>1</td>\n",
       "      <td>False</td>\n",
       "      <td>4</td>\n",
       "      <td>138</td>\n",
       "      <td>1</td>\n",
       "      <td>1</td>\n",
       "      <td>1</td>\n",
       "      <td>2</td>\n",
       "      <td>2</td>\n",
       "      <td>0</td>\n",
       "      <td>0</td>\n",
       "      <td>0</td>\n",
       "      <td>0</td>\n",
       "      <td>0</td>\n",
       "      <td>26.986301</td>\n",
       "      <td>0.742466</td>\n",
       "    </tr>\n",
       "    <tr>\n",
       "      <th>4</th>\n",
       "      <td>614</td>\n",
       "      <td>6</td>\n",
       "      <td>1</td>\n",
       "      <td>False</td>\n",
       "      <td>10</td>\n",
       "      <td>192</td>\n",
       "      <td>1</td>\n",
       "      <td>1</td>\n",
       "      <td>2</td>\n",
       "      <td>1</td>\n",
       "      <td>2</td>\n",
       "      <td>0</td>\n",
       "      <td>0</td>\n",
       "      <td>0</td>\n",
       "      <td>0</td>\n",
       "      <td>0</td>\n",
       "      <td>25.156164</td>\n",
       "      <td>4.232877</td>\n",
       "    </tr>\n",
       "  </tbody>\n",
       "</table>\n",
       "</div>"
      ],
      "text/plain": [
       "  FEATURE_PairingLabel  FEATURE_DutyStartHour  FEATURE_DutyDayOfWeek  \\\n",
       "0                  172                     15                      3   \n",
       "1                  172                     15                      3   \n",
       "2                  834                     20                      1   \n",
       "3                  834                     20                      1   \n",
       "4                  614                      6                      1   \n",
       "\n",
       "   LABEL_Swapped  FEATURE_Swapped_Count  FEATURE_Rostered_Count  \\\n",
       "0          False                     22                     240   \n",
       "1           True                     23                     220   \n",
       "2          False                     41                     241   \n",
       "3          False                      4                     138   \n",
       "4          False                     10                     192   \n",
       "\n",
       "   FEATURE_WithCrew1_Rostered_Count  FEATURE_WithCrew2_Rostered_Count  \\\n",
       "0                                 9                                 3   \n",
       "1                                 5                                 4   \n",
       "2                                 3                                 1   \n",
       "3                                 1                                 1   \n",
       "4                                 1                                 1   \n",
       "\n",
       "   FEATURE_WithCrew3_Rostered_Count  FEATURE_WithCrew4_Rostered_Count  \\\n",
       "0                                 1                                 1   \n",
       "1                                 2                                 4   \n",
       "2                                 1                                 2   \n",
       "3                                 1                                 2   \n",
       "4                                 2                                 1   \n",
       "\n",
       "   FEATURE_WithCrew5_Rostered_Count  FEATURE_WithCrew1_Swapped_Count  \\\n",
       "0                                 4                                0   \n",
       "1                                 3                                2   \n",
       "2                                 1                                0   \n",
       "3                                 2                                0   \n",
       "4                                 2                                0   \n",
       "\n",
       "   FEATURE_WithCrew2_Swapped_Count  FEATURE_WithCrew3_Swapped_Count  \\\n",
       "0                                1                                0   \n",
       "1                                1                                1   \n",
       "2                                0                                0   \n",
       "3                                0                                0   \n",
       "4                                0                                0   \n",
       "\n",
       "   FEATURE_WithCrew4_Swapped_Count  FEATURE_WithCrew5_Swapped_Count  \\\n",
       "0                                0                                1   \n",
       "1                                2                                1   \n",
       "2                                0                                0   \n",
       "3                                0                                0   \n",
       "4                                0                                0   \n",
       "\n",
       "   FEATURE_Age  FEATURE_Tenure  \n",
       "0    26.372603        1.468493  \n",
       "1    23.906849        1.627397  \n",
       "2    27.367123        1.567123  \n",
       "3    26.986301        0.742466  \n",
       "4    25.156164        4.232877  "
      ]
     },
     "execution_count": 16,
     "metadata": {},
     "output_type": "execute_result"
    }
   ],
   "source": [
    "traindataset.head()"
   ]
  },
  {
   "cell_type": "code",
   "execution_count": 17,
   "metadata": {},
   "outputs": [
    {
     "data": {
      "text/html": [
       "<div>\n",
       "<style scoped>\n",
       "    .dataframe tbody tr th:only-of-type {\n",
       "        vertical-align: middle;\n",
       "    }\n",
       "\n",
       "    .dataframe tbody tr th {\n",
       "        vertical-align: top;\n",
       "    }\n",
       "\n",
       "    .dataframe thead th {\n",
       "        text-align: right;\n",
       "    }\n",
       "</style>\n",
       "<table border=\"1\" class=\"dataframe\">\n",
       "  <thead>\n",
       "    <tr style=\"text-align: right;\">\n",
       "      <th></th>\n",
       "      <th>p__122B</th>\n",
       "      <th>p__130</th>\n",
       "      <th>p__130B</th>\n",
       "      <th>p__140</th>\n",
       "      <th>p__160</th>\n",
       "      <th>p__166</th>\n",
       "      <th>p__166B</th>\n",
       "      <th>p__172</th>\n",
       "      <th>p__180</th>\n",
       "      <th>p__180B</th>\n",
       "      <th>...</th>\n",
       "      <th>p__862</th>\n",
       "      <th>p__862B</th>\n",
       "      <th>p__870</th>\n",
       "      <th>p__870B</th>\n",
       "      <th>p__890</th>\n",
       "      <th>p__898</th>\n",
       "      <th>p__898B</th>\n",
       "      <th>p__9462</th>\n",
       "      <th>p__9464</th>\n",
       "      <th>p__9988</th>\n",
       "    </tr>\n",
       "  </thead>\n",
       "  <tbody>\n",
       "    <tr>\n",
       "      <th>0</th>\n",
       "      <td>0</td>\n",
       "      <td>0</td>\n",
       "      <td>0</td>\n",
       "      <td>0</td>\n",
       "      <td>0</td>\n",
       "      <td>0</td>\n",
       "      <td>0</td>\n",
       "      <td>1</td>\n",
       "      <td>0</td>\n",
       "      <td>0</td>\n",
       "      <td>...</td>\n",
       "      <td>0</td>\n",
       "      <td>0</td>\n",
       "      <td>0</td>\n",
       "      <td>0</td>\n",
       "      <td>0</td>\n",
       "      <td>0</td>\n",
       "      <td>0</td>\n",
       "      <td>0</td>\n",
       "      <td>0</td>\n",
       "      <td>0</td>\n",
       "    </tr>\n",
       "    <tr>\n",
       "      <th>1</th>\n",
       "      <td>0</td>\n",
       "      <td>0</td>\n",
       "      <td>0</td>\n",
       "      <td>0</td>\n",
       "      <td>0</td>\n",
       "      <td>0</td>\n",
       "      <td>0</td>\n",
       "      <td>1</td>\n",
       "      <td>0</td>\n",
       "      <td>0</td>\n",
       "      <td>...</td>\n",
       "      <td>0</td>\n",
       "      <td>0</td>\n",
       "      <td>0</td>\n",
       "      <td>0</td>\n",
       "      <td>0</td>\n",
       "      <td>0</td>\n",
       "      <td>0</td>\n",
       "      <td>0</td>\n",
       "      <td>0</td>\n",
       "      <td>0</td>\n",
       "    </tr>\n",
       "    <tr>\n",
       "      <th>2</th>\n",
       "      <td>0</td>\n",
       "      <td>0</td>\n",
       "      <td>0</td>\n",
       "      <td>0</td>\n",
       "      <td>0</td>\n",
       "      <td>0</td>\n",
       "      <td>0</td>\n",
       "      <td>0</td>\n",
       "      <td>0</td>\n",
       "      <td>0</td>\n",
       "      <td>...</td>\n",
       "      <td>0</td>\n",
       "      <td>0</td>\n",
       "      <td>0</td>\n",
       "      <td>0</td>\n",
       "      <td>0</td>\n",
       "      <td>0</td>\n",
       "      <td>0</td>\n",
       "      <td>0</td>\n",
       "      <td>0</td>\n",
       "      <td>0</td>\n",
       "    </tr>\n",
       "    <tr>\n",
       "      <th>3</th>\n",
       "      <td>0</td>\n",
       "      <td>0</td>\n",
       "      <td>0</td>\n",
       "      <td>0</td>\n",
       "      <td>0</td>\n",
       "      <td>0</td>\n",
       "      <td>0</td>\n",
       "      <td>0</td>\n",
       "      <td>0</td>\n",
       "      <td>0</td>\n",
       "      <td>...</td>\n",
       "      <td>0</td>\n",
       "      <td>0</td>\n",
       "      <td>0</td>\n",
       "      <td>0</td>\n",
       "      <td>0</td>\n",
       "      <td>0</td>\n",
       "      <td>0</td>\n",
       "      <td>0</td>\n",
       "      <td>0</td>\n",
       "      <td>0</td>\n",
       "    </tr>\n",
       "    <tr>\n",
       "      <th>4</th>\n",
       "      <td>0</td>\n",
       "      <td>0</td>\n",
       "      <td>0</td>\n",
       "      <td>0</td>\n",
       "      <td>0</td>\n",
       "      <td>0</td>\n",
       "      <td>0</td>\n",
       "      <td>0</td>\n",
       "      <td>0</td>\n",
       "      <td>0</td>\n",
       "      <td>...</td>\n",
       "      <td>0</td>\n",
       "      <td>0</td>\n",
       "      <td>0</td>\n",
       "      <td>0</td>\n",
       "      <td>0</td>\n",
       "      <td>0</td>\n",
       "      <td>0</td>\n",
       "      <td>0</td>\n",
       "      <td>0</td>\n",
       "      <td>0</td>\n",
       "    </tr>\n",
       "  </tbody>\n",
       "</table>\n",
       "<p>5 rows × 133 columns</p>\n",
       "</div>"
      ],
      "text/plain": [
       "   p__122B  p__130  p__130B  p__140  p__160  p__166  p__166B  p__172  p__180  \\\n",
       "0        0       0        0       0       0       0        0       1       0   \n",
       "1        0       0        0       0       0       0        0       1       0   \n",
       "2        0       0        0       0       0       0        0       0       0   \n",
       "3        0       0        0       0       0       0        0       0       0   \n",
       "4        0       0        0       0       0       0        0       0       0   \n",
       "\n",
       "   p__180B  ...  p__862  p__862B  p__870  p__870B  p__890  p__898  p__898B  \\\n",
       "0        0  ...       0        0       0        0       0       0        0   \n",
       "1        0  ...       0        0       0        0       0       0        0   \n",
       "2        0  ...       0        0       0        0       0       0        0   \n",
       "3        0  ...       0        0       0        0       0       0        0   \n",
       "4        0  ...       0        0       0        0       0       0        0   \n",
       "\n",
       "   p__9462  p__9464  p__9988  \n",
       "0        0        0        0  \n",
       "1        0        0        0  \n",
       "2        0        0        0  \n",
       "3        0        0        0  \n",
       "4        0        0        0  \n",
       "\n",
       "[5 rows x 133 columns]"
      ]
     },
     "execution_count": 17,
     "metadata": {},
     "output_type": "execute_result"
    }
   ],
   "source": [
    "# Converting non-numerical features into dummy columns\n",
    "pairinglabel = pd.get_dummies(traindataset['FEATURE_PairingLabel'], prefix='p_', drop_first=True)\n",
    "pairinglabel.head()"
   ]
  },
  {
   "cell_type": "code",
   "execution_count": 18,
   "metadata": {},
   "outputs": [
    {
     "data": {
      "text/html": [
       "<div>\n",
       "<style scoped>\n",
       "    .dataframe tbody tr th:only-of-type {\n",
       "        vertical-align: middle;\n",
       "    }\n",
       "\n",
       "    .dataframe tbody tr th {\n",
       "        vertical-align: top;\n",
       "    }\n",
       "\n",
       "    .dataframe thead th {\n",
       "        text-align: right;\n",
       "    }\n",
       "</style>\n",
       "<table border=\"1\" class=\"dataframe\">\n",
       "  <thead>\n",
       "    <tr style=\"text-align: right;\">\n",
       "      <th></th>\n",
       "      <th>dow_2</th>\n",
       "      <th>dow_3</th>\n",
       "      <th>dow_4</th>\n",
       "      <th>dow_5</th>\n",
       "      <th>dow_6</th>\n",
       "      <th>dow_7</th>\n",
       "    </tr>\n",
       "  </thead>\n",
       "  <tbody>\n",
       "    <tr>\n",
       "      <th>0</th>\n",
       "      <td>0</td>\n",
       "      <td>1</td>\n",
       "      <td>0</td>\n",
       "      <td>0</td>\n",
       "      <td>0</td>\n",
       "      <td>0</td>\n",
       "    </tr>\n",
       "    <tr>\n",
       "      <th>1</th>\n",
       "      <td>0</td>\n",
       "      <td>1</td>\n",
       "      <td>0</td>\n",
       "      <td>0</td>\n",
       "      <td>0</td>\n",
       "      <td>0</td>\n",
       "    </tr>\n",
       "    <tr>\n",
       "      <th>2</th>\n",
       "      <td>0</td>\n",
       "      <td>0</td>\n",
       "      <td>0</td>\n",
       "      <td>0</td>\n",
       "      <td>0</td>\n",
       "      <td>0</td>\n",
       "    </tr>\n",
       "    <tr>\n",
       "      <th>3</th>\n",
       "      <td>0</td>\n",
       "      <td>0</td>\n",
       "      <td>0</td>\n",
       "      <td>0</td>\n",
       "      <td>0</td>\n",
       "      <td>0</td>\n",
       "    </tr>\n",
       "    <tr>\n",
       "      <th>4</th>\n",
       "      <td>0</td>\n",
       "      <td>0</td>\n",
       "      <td>0</td>\n",
       "      <td>0</td>\n",
       "      <td>0</td>\n",
       "      <td>0</td>\n",
       "    </tr>\n",
       "  </tbody>\n",
       "</table>\n",
       "</div>"
      ],
      "text/plain": [
       "   dow_2  dow_3  dow_4  dow_5  dow_6  dow_7\n",
       "0      0      1      0      0      0      0\n",
       "1      0      1      0      0      0      0\n",
       "2      0      0      0      0      0      0\n",
       "3      0      0      0      0      0      0\n",
       "4      0      0      0      0      0      0"
      ]
     },
     "execution_count": 18,
     "metadata": {},
     "output_type": "execute_result"
    }
   ],
   "source": [
    "dayofweek = pd.get_dummies(traindataset['FEATURE_DutyDayOfWeek'], prefix='dow', drop_first=True)\n",
    "dayofweek.head()"
   ]
  },
  {
   "cell_type": "code",
   "execution_count": 19,
   "metadata": {},
   "outputs": [
    {
     "data": {
      "text/html": [
       "<div>\n",
       "<style scoped>\n",
       "    .dataframe tbody tr th:only-of-type {\n",
       "        vertical-align: middle;\n",
       "    }\n",
       "\n",
       "    .dataframe tbody tr th {\n",
       "        vertical-align: top;\n",
       "    }\n",
       "\n",
       "    .dataframe thead th {\n",
       "        text-align: right;\n",
       "    }\n",
       "</style>\n",
       "<table border=\"1\" class=\"dataframe\">\n",
       "  <thead>\n",
       "    <tr style=\"text-align: right;\">\n",
       "      <th></th>\n",
       "      <th>hr__1</th>\n",
       "      <th>hr__2</th>\n",
       "      <th>hr__3</th>\n",
       "      <th>hr__4</th>\n",
       "      <th>hr__5</th>\n",
       "      <th>hr__6</th>\n",
       "      <th>hr__7</th>\n",
       "      <th>hr__8</th>\n",
       "      <th>hr__9</th>\n",
       "      <th>hr__10</th>\n",
       "      <th>...</th>\n",
       "      <th>hr__14</th>\n",
       "      <th>hr__15</th>\n",
       "      <th>hr__16</th>\n",
       "      <th>hr__17</th>\n",
       "      <th>hr__18</th>\n",
       "      <th>hr__19</th>\n",
       "      <th>hr__20</th>\n",
       "      <th>hr__21</th>\n",
       "      <th>hr__22</th>\n",
       "      <th>hr__23</th>\n",
       "    </tr>\n",
       "  </thead>\n",
       "  <tbody>\n",
       "    <tr>\n",
       "      <th>0</th>\n",
       "      <td>0</td>\n",
       "      <td>0</td>\n",
       "      <td>0</td>\n",
       "      <td>0</td>\n",
       "      <td>0</td>\n",
       "      <td>0</td>\n",
       "      <td>0</td>\n",
       "      <td>0</td>\n",
       "      <td>0</td>\n",
       "      <td>0</td>\n",
       "      <td>...</td>\n",
       "      <td>0</td>\n",
       "      <td>1</td>\n",
       "      <td>0</td>\n",
       "      <td>0</td>\n",
       "      <td>0</td>\n",
       "      <td>0</td>\n",
       "      <td>0</td>\n",
       "      <td>0</td>\n",
       "      <td>0</td>\n",
       "      <td>0</td>\n",
       "    </tr>\n",
       "    <tr>\n",
       "      <th>1</th>\n",
       "      <td>0</td>\n",
       "      <td>0</td>\n",
       "      <td>0</td>\n",
       "      <td>0</td>\n",
       "      <td>0</td>\n",
       "      <td>0</td>\n",
       "      <td>0</td>\n",
       "      <td>0</td>\n",
       "      <td>0</td>\n",
       "      <td>0</td>\n",
       "      <td>...</td>\n",
       "      <td>0</td>\n",
       "      <td>1</td>\n",
       "      <td>0</td>\n",
       "      <td>0</td>\n",
       "      <td>0</td>\n",
       "      <td>0</td>\n",
       "      <td>0</td>\n",
       "      <td>0</td>\n",
       "      <td>0</td>\n",
       "      <td>0</td>\n",
       "    </tr>\n",
       "    <tr>\n",
       "      <th>2</th>\n",
       "      <td>0</td>\n",
       "      <td>0</td>\n",
       "      <td>0</td>\n",
       "      <td>0</td>\n",
       "      <td>0</td>\n",
       "      <td>0</td>\n",
       "      <td>0</td>\n",
       "      <td>0</td>\n",
       "      <td>0</td>\n",
       "      <td>0</td>\n",
       "      <td>...</td>\n",
       "      <td>0</td>\n",
       "      <td>0</td>\n",
       "      <td>0</td>\n",
       "      <td>0</td>\n",
       "      <td>0</td>\n",
       "      <td>0</td>\n",
       "      <td>1</td>\n",
       "      <td>0</td>\n",
       "      <td>0</td>\n",
       "      <td>0</td>\n",
       "    </tr>\n",
       "    <tr>\n",
       "      <th>3</th>\n",
       "      <td>0</td>\n",
       "      <td>0</td>\n",
       "      <td>0</td>\n",
       "      <td>0</td>\n",
       "      <td>0</td>\n",
       "      <td>0</td>\n",
       "      <td>0</td>\n",
       "      <td>0</td>\n",
       "      <td>0</td>\n",
       "      <td>0</td>\n",
       "      <td>...</td>\n",
       "      <td>0</td>\n",
       "      <td>0</td>\n",
       "      <td>0</td>\n",
       "      <td>0</td>\n",
       "      <td>0</td>\n",
       "      <td>0</td>\n",
       "      <td>1</td>\n",
       "      <td>0</td>\n",
       "      <td>0</td>\n",
       "      <td>0</td>\n",
       "    </tr>\n",
       "    <tr>\n",
       "      <th>4</th>\n",
       "      <td>0</td>\n",
       "      <td>0</td>\n",
       "      <td>0</td>\n",
       "      <td>0</td>\n",
       "      <td>0</td>\n",
       "      <td>1</td>\n",
       "      <td>0</td>\n",
       "      <td>0</td>\n",
       "      <td>0</td>\n",
       "      <td>0</td>\n",
       "      <td>...</td>\n",
       "      <td>0</td>\n",
       "      <td>0</td>\n",
       "      <td>0</td>\n",
       "      <td>0</td>\n",
       "      <td>0</td>\n",
       "      <td>0</td>\n",
       "      <td>0</td>\n",
       "      <td>0</td>\n",
       "      <td>0</td>\n",
       "      <td>0</td>\n",
       "    </tr>\n",
       "  </tbody>\n",
       "</table>\n",
       "<p>5 rows × 22 columns</p>\n",
       "</div>"
      ],
      "text/plain": [
       "   hr__1  hr__2  hr__3  hr__4  hr__5  hr__6  hr__7  hr__8  hr__9  hr__10  ...  \\\n",
       "0      0      0      0      0      0      0      0      0      0       0  ...   \n",
       "1      0      0      0      0      0      0      0      0      0       0  ...   \n",
       "2      0      0      0      0      0      0      0      0      0       0  ...   \n",
       "3      0      0      0      0      0      0      0      0      0       0  ...   \n",
       "4      0      0      0      0      0      1      0      0      0       0  ...   \n",
       "\n",
       "   hr__14  hr__15  hr__16  hr__17  hr__18  hr__19  hr__20  hr__21  hr__22  \\\n",
       "0       0       1       0       0       0       0       0       0       0   \n",
       "1       0       1       0       0       0       0       0       0       0   \n",
       "2       0       0       0       0       0       0       1       0       0   \n",
       "3       0       0       0       0       0       0       1       0       0   \n",
       "4       0       0       0       0       0       0       0       0       0   \n",
       "\n",
       "   hr__23  \n",
       "0       0  \n",
       "1       0  \n",
       "2       0  \n",
       "3       0  \n",
       "4       0  \n",
       "\n",
       "[5 rows x 22 columns]"
      ]
     },
     "execution_count": 19,
     "metadata": {},
     "output_type": "execute_result"
    }
   ],
   "source": [
    "dutyhour = pd.get_dummies(traindataset['FEATURE_DutyStartHour'], prefix='hr_', drop_first=True)\n",
    "dutyhour.head()"
   ]
  },
  {
   "cell_type": "code",
   "execution_count": 20,
   "metadata": {},
   "outputs": [],
   "source": [
    "traindataset = pd.concat([traindataset,pairinglabel,dayofweek,dutyhour],axis=1)"
   ]
  },
  {
   "cell_type": "code",
   "execution_count": 21,
   "metadata": {},
   "outputs": [],
   "source": [
    "traindataset.drop(['FEATURE_PairingLabel','FEATURE_DutyDayOfWeek','FEATURE_DutyStartHour'], axis=1, inplace=True)"
   ]
  },
  {
   "cell_type": "code",
   "execution_count": 22,
   "metadata": {},
   "outputs": [
    {
     "data": {
      "text/html": [
       "<div>\n",
       "<style scoped>\n",
       "    .dataframe tbody tr th:only-of-type {\n",
       "        vertical-align: middle;\n",
       "    }\n",
       "\n",
       "    .dataframe tbody tr th {\n",
       "        vertical-align: top;\n",
       "    }\n",
       "\n",
       "    .dataframe thead th {\n",
       "        text-align: right;\n",
       "    }\n",
       "</style>\n",
       "<table border=\"1\" class=\"dataframe\">\n",
       "  <thead>\n",
       "    <tr style=\"text-align: right;\">\n",
       "      <th></th>\n",
       "      <th>LABEL_Swapped</th>\n",
       "      <th>FEATURE_Swapped_Count</th>\n",
       "      <th>FEATURE_Rostered_Count</th>\n",
       "      <th>FEATURE_WithCrew1_Rostered_Count</th>\n",
       "      <th>FEATURE_WithCrew2_Rostered_Count</th>\n",
       "      <th>FEATURE_WithCrew3_Rostered_Count</th>\n",
       "      <th>FEATURE_WithCrew4_Rostered_Count</th>\n",
       "      <th>FEATURE_WithCrew5_Rostered_Count</th>\n",
       "      <th>FEATURE_WithCrew1_Swapped_Count</th>\n",
       "      <th>FEATURE_WithCrew2_Swapped_Count</th>\n",
       "      <th>...</th>\n",
       "      <th>hr__14</th>\n",
       "      <th>hr__15</th>\n",
       "      <th>hr__16</th>\n",
       "      <th>hr__17</th>\n",
       "      <th>hr__18</th>\n",
       "      <th>hr__19</th>\n",
       "      <th>hr__20</th>\n",
       "      <th>hr__21</th>\n",
       "      <th>hr__22</th>\n",
       "      <th>hr__23</th>\n",
       "    </tr>\n",
       "  </thead>\n",
       "  <tbody>\n",
       "    <tr>\n",
       "      <th>0</th>\n",
       "      <td>False</td>\n",
       "      <td>22</td>\n",
       "      <td>240</td>\n",
       "      <td>9</td>\n",
       "      <td>3</td>\n",
       "      <td>1</td>\n",
       "      <td>1</td>\n",
       "      <td>4</td>\n",
       "      <td>0</td>\n",
       "      <td>1</td>\n",
       "      <td>...</td>\n",
       "      <td>0</td>\n",
       "      <td>1</td>\n",
       "      <td>0</td>\n",
       "      <td>0</td>\n",
       "      <td>0</td>\n",
       "      <td>0</td>\n",
       "      <td>0</td>\n",
       "      <td>0</td>\n",
       "      <td>0</td>\n",
       "      <td>0</td>\n",
       "    </tr>\n",
       "    <tr>\n",
       "      <th>1</th>\n",
       "      <td>True</td>\n",
       "      <td>23</td>\n",
       "      <td>220</td>\n",
       "      <td>5</td>\n",
       "      <td>4</td>\n",
       "      <td>2</td>\n",
       "      <td>4</td>\n",
       "      <td>3</td>\n",
       "      <td>2</td>\n",
       "      <td>1</td>\n",
       "      <td>...</td>\n",
       "      <td>0</td>\n",
       "      <td>1</td>\n",
       "      <td>0</td>\n",
       "      <td>0</td>\n",
       "      <td>0</td>\n",
       "      <td>0</td>\n",
       "      <td>0</td>\n",
       "      <td>0</td>\n",
       "      <td>0</td>\n",
       "      <td>0</td>\n",
       "    </tr>\n",
       "    <tr>\n",
       "      <th>2</th>\n",
       "      <td>False</td>\n",
       "      <td>41</td>\n",
       "      <td>241</td>\n",
       "      <td>3</td>\n",
       "      <td>1</td>\n",
       "      <td>1</td>\n",
       "      <td>2</td>\n",
       "      <td>1</td>\n",
       "      <td>0</td>\n",
       "      <td>0</td>\n",
       "      <td>...</td>\n",
       "      <td>0</td>\n",
       "      <td>0</td>\n",
       "      <td>0</td>\n",
       "      <td>0</td>\n",
       "      <td>0</td>\n",
       "      <td>0</td>\n",
       "      <td>1</td>\n",
       "      <td>0</td>\n",
       "      <td>0</td>\n",
       "      <td>0</td>\n",
       "    </tr>\n",
       "    <tr>\n",
       "      <th>3</th>\n",
       "      <td>False</td>\n",
       "      <td>4</td>\n",
       "      <td>138</td>\n",
       "      <td>1</td>\n",
       "      <td>1</td>\n",
       "      <td>1</td>\n",
       "      <td>2</td>\n",
       "      <td>2</td>\n",
       "      <td>0</td>\n",
       "      <td>0</td>\n",
       "      <td>...</td>\n",
       "      <td>0</td>\n",
       "      <td>0</td>\n",
       "      <td>0</td>\n",
       "      <td>0</td>\n",
       "      <td>0</td>\n",
       "      <td>0</td>\n",
       "      <td>1</td>\n",
       "      <td>0</td>\n",
       "      <td>0</td>\n",
       "      <td>0</td>\n",
       "    </tr>\n",
       "    <tr>\n",
       "      <th>4</th>\n",
       "      <td>False</td>\n",
       "      <td>10</td>\n",
       "      <td>192</td>\n",
       "      <td>1</td>\n",
       "      <td>1</td>\n",
       "      <td>2</td>\n",
       "      <td>1</td>\n",
       "      <td>2</td>\n",
       "      <td>0</td>\n",
       "      <td>0</td>\n",
       "      <td>...</td>\n",
       "      <td>0</td>\n",
       "      <td>0</td>\n",
       "      <td>0</td>\n",
       "      <td>0</td>\n",
       "      <td>0</td>\n",
       "      <td>0</td>\n",
       "      <td>0</td>\n",
       "      <td>0</td>\n",
       "      <td>0</td>\n",
       "      <td>0</td>\n",
       "    </tr>\n",
       "  </tbody>\n",
       "</table>\n",
       "<p>5 rows × 176 columns</p>\n",
       "</div>"
      ],
      "text/plain": [
       "   LABEL_Swapped  FEATURE_Swapped_Count  FEATURE_Rostered_Count  \\\n",
       "0          False                     22                     240   \n",
       "1           True                     23                     220   \n",
       "2          False                     41                     241   \n",
       "3          False                      4                     138   \n",
       "4          False                     10                     192   \n",
       "\n",
       "   FEATURE_WithCrew1_Rostered_Count  FEATURE_WithCrew2_Rostered_Count  \\\n",
       "0                                 9                                 3   \n",
       "1                                 5                                 4   \n",
       "2                                 3                                 1   \n",
       "3                                 1                                 1   \n",
       "4                                 1                                 1   \n",
       "\n",
       "   FEATURE_WithCrew3_Rostered_Count  FEATURE_WithCrew4_Rostered_Count  \\\n",
       "0                                 1                                 1   \n",
       "1                                 2                                 4   \n",
       "2                                 1                                 2   \n",
       "3                                 1                                 2   \n",
       "4                                 2                                 1   \n",
       "\n",
       "   FEATURE_WithCrew5_Rostered_Count  FEATURE_WithCrew1_Swapped_Count  \\\n",
       "0                                 4                                0   \n",
       "1                                 3                                2   \n",
       "2                                 1                                0   \n",
       "3                                 2                                0   \n",
       "4                                 2                                0   \n",
       "\n",
       "   FEATURE_WithCrew2_Swapped_Count  ...  hr__14  hr__15  hr__16  hr__17  \\\n",
       "0                                1  ...       0       1       0       0   \n",
       "1                                1  ...       0       1       0       0   \n",
       "2                                0  ...       0       0       0       0   \n",
       "3                                0  ...       0       0       0       0   \n",
       "4                                0  ...       0       0       0       0   \n",
       "\n",
       "   hr__18  hr__19  hr__20  hr__21  hr__22  hr__23  \n",
       "0       0       0       0       0       0       0  \n",
       "1       0       0       0       0       0       0  \n",
       "2       0       0       1       0       0       0  \n",
       "3       0       0       1       0       0       0  \n",
       "4       0       0       0       0       0       0  \n",
       "\n",
       "[5 rows x 176 columns]"
      ]
     },
     "execution_count": 22,
     "metadata": {},
     "output_type": "execute_result"
    }
   ],
   "source": [
    "traindataset.head()"
   ]
  },
  {
   "cell_type": "code",
   "execution_count": 23,
   "metadata": {},
   "outputs": [
    {
     "data": {
      "text/plain": [
       "0         0\n",
       "1         1\n",
       "2         0\n",
       "3         0\n",
       "4         0\n",
       "         ..\n",
       "112164    0\n",
       "112165    0\n",
       "112166    0\n",
       "112167    0\n",
       "112168    0\n",
       "Name: LABEL_Swapped, Length: 112165, dtype: int64"
      ]
     },
     "execution_count": 23,
     "metadata": {},
     "output_type": "execute_result"
    }
   ],
   "source": [
    "# Finally, converting the label column from boolean to 0,1 values\n",
    "traindataset['LABEL_Swapped'] = traindataset['LABEL_Swapped'] * 1\n",
    "traindataset['LABEL_Swapped']"
   ]
  },
  {
   "cell_type": "code",
   "execution_count": 24,
   "metadata": {},
   "outputs": [
    {
     "data": {
      "text/plain": [
       "LABEL_Swapped                       0\n",
       "FEATURE_Swapped_Count               0\n",
       "FEATURE_Rostered_Count              0\n",
       "FEATURE_WithCrew1_Rostered_Count    0\n",
       "FEATURE_WithCrew2_Rostered_Count    0\n",
       "                                   ..\n",
       "hr__19                              0\n",
       "hr__20                              0\n",
       "hr__21                              0\n",
       "hr__22                              0\n",
       "hr__23                              0\n",
       "Length: 176, dtype: int64"
      ]
     },
     "execution_count": 24,
     "metadata": {},
     "output_type": "execute_result"
    }
   ],
   "source": [
    "traindataset.isnull().sum()"
   ]
  },
  {
   "cell_type": "code",
   "execution_count": null,
   "metadata": {},
   "outputs": [],
   "source": []
  },
  {
   "cell_type": "code",
   "execution_count": 25,
   "metadata": {},
   "outputs": [],
   "source": [
    "from sklearn.model_selection import train_test_split"
   ]
  },
  {
   "cell_type": "code",
   "execution_count": 26,
   "metadata": {},
   "outputs": [],
   "source": [
    "X_train, X_test, y_train, y_test = train_test_split(traindataset.drop('LABEL_Swapped', axis=1), traindataset['LABEL_Swapped'].astype('int'), test_size=0.25, random_state=101)"
   ]
  },
  {
   "cell_type": "code",
   "execution_count": 27,
   "metadata": {},
   "outputs": [],
   "source": [
    "# Logictic Regression Model\n",
    "from sklearn.linear_model import LogisticRegression"
   ]
  },
  {
   "cell_type": "code",
   "execution_count": 28,
   "metadata": {},
   "outputs": [
    {
     "name": "stderr",
     "output_type": "stream",
     "text": [
      "/opt/conda/lib/python3.7/site-packages/sklearn/linear_model/_logistic.py:764: ConvergenceWarning: lbfgs failed to converge (status=1):\n",
      "STOP: TOTAL NO. of ITERATIONS REACHED LIMIT.\n",
      "\n",
      "Increase the number of iterations (max_iter) or scale the data as shown in:\n",
      "    https://scikit-learn.org/stable/modules/preprocessing.html\n",
      "Please also refer to the documentation for alternative solver options:\n",
      "    https://scikit-learn.org/stable/modules/linear_model.html#logistic-regression\n",
      "  extra_warning_msg=_LOGISTIC_SOLVER_CONVERGENCE_MSG)\n"
     ]
    },
    {
     "data": {
      "text/plain": [
       "LogisticRegression(max_iter=1000)"
      ]
     },
     "execution_count": 28,
     "metadata": {},
     "output_type": "execute_result"
    }
   ],
   "source": [
    "logmodel = LogisticRegression(max_iter = 1000)\n",
    "logmodel.fit(X_train,y_train)"
   ]
  },
  {
   "cell_type": "code",
   "execution_count": 29,
   "metadata": {},
   "outputs": [],
   "source": [
    "log_predictions = logmodel.predict(X_test)"
   ]
  },
  {
   "cell_type": "code",
   "execution_count": 30,
   "metadata": {},
   "outputs": [],
   "source": [
    "from sklearn.metrics import classification_report, confusion_matrix"
   ]
  },
  {
   "cell_type": "code",
   "execution_count": 31,
   "metadata": {},
   "outputs": [
    {
     "name": "stdout",
     "output_type": "stream",
     "text": [
      "              precision    recall  f1-score   support\n",
      "\n",
      "           0       1.00      1.00      1.00     25486\n",
      "           1       0.97      0.97      0.97      2556\n",
      "\n",
      "    accuracy                           0.99     28042\n",
      "   macro avg       0.98      0.98      0.98     28042\n",
      "weighted avg       0.99      0.99      0.99     28042\n",
      "\n"
     ]
    }
   ],
   "source": [
    "print(classification_report(y_test,log_predictions))"
   ]
  },
  {
   "cell_type": "code",
   "execution_count": 32,
   "metadata": {},
   "outputs": [
    {
     "name": "stdout",
     "output_type": "stream",
     "text": [
      "[[25412    74]\n",
      " [   82  2474]]\n"
     ]
    }
   ],
   "source": [
    "print(confusion_matrix(y_test,log_predictions))"
   ]
  },
  {
   "cell_type": "code",
   "execution_count": 76,
   "metadata": {},
   "outputs": [
    {
     "data": {
      "image/png": "[encoded data removed]",
      "text/plain": [
       "<Figure size 432x288 with 1 Axes>"
      ]
     },
     "metadata": {
      "needs_background": "light"
     },
     "output_type": "display_data"
    }
   ],
   "source": [
    "importance = logmodel.coef_[0]\n",
    "\n",
    "# Top 10 features\n",
    "top_col_name = X_train.columns[sorted(range(len(logmodel.coef_[0])), key=lambda i: logmodel.coef_[0][i])[-10:]]\n",
    "top_importance = importance[sorted(range(len(logmodel.coef_[0])), key=lambda i: logmodel.coef_[0][i])[-10:]]\n",
    "\n",
    "plt.barh(top_col_name, top_importance)\n",
    "plt.show()\n",
    "\n",
    "## https://machinelearningmastery.com/calculate-feature-importance-with-python/ ##"
   ]
  },
  {
   "cell_type": "code",
   "execution_count": 31,
   "metadata": {},
   "outputs": [],
   "source": [
    "# K Nearest Neighbors Model\n",
    "from sklearn.neighbors import KNeighborsClassifier"
   ]
  },
  {
   "cell_type": "code",
   "execution_count": 32,
   "metadata": {},
   "outputs": [],
   "source": [
    "knn = KNeighborsClassifier(n_neighbors = 10)"
   ]
  },
  {
   "cell_type": "code",
   "execution_count": 33,
   "metadata": {},
   "outputs": [
    {
     "data": {
      "text/plain": [
       "KNeighborsClassifier(n_neighbors=10)"
      ]
     },
     "execution_count": 33,
     "metadata": {},
     "output_type": "execute_result"
    }
   ],
   "source": [
    "knn.fit(X_train,y_train)"
   ]
  },
  {
   "cell_type": "code",
   "execution_count": 34,
   "metadata": {},
   "outputs": [],
   "source": [
    "knn_predictions = knn.predict(X_test)"
   ]
  },
  {
   "cell_type": "code",
   "execution_count": 35,
   "metadata": {},
   "outputs": [
    {
     "name": "stdout",
     "output_type": "stream",
     "text": [
      "              precision    recall  f1-score   support\n",
      "\n",
      "           0       0.95      1.00      0.97     25486\n",
      "           1       0.97      0.43      0.59      2556\n",
      "\n",
      "    accuracy                           0.95     28042\n",
      "   macro avg       0.96      0.71      0.78     28042\n",
      "weighted avg       0.95      0.95      0.94     28042\n",
      "\n"
     ]
    }
   ],
   "source": [
    "print(classification_report(y_test,knn_predictions))"
   ]
  },
  {
   "cell_type": "code",
   "execution_count": 36,
   "metadata": {},
   "outputs": [
    {
     "name": "stdout",
     "output_type": "stream",
     "text": [
      "[[25447    39]\n",
      " [ 1460  1096]]\n"
     ]
    }
   ],
   "source": [
    "print(confusion_matrix(y_test,knn_predictions))"
   ]
  },
  {
   "cell_type": "code",
   "execution_count": 37,
   "metadata": {},
   "outputs": [],
   "source": [
    "# Finding optimal K values\n",
    "error_rate = []\n",
    "\n",
    "for i in range(1,15):\n",
    "    knn = KNeighborsClassifier(n_neighbors = i)\n",
    "    knn.fit(X_train,y_train)\n",
    "    pred_i = knn.predict(X_test)\n",
    "    error_rate.append(np.mean(pred_i != y_test))"
   ]
  },
  {
   "cell_type": "code",
   "execution_count": 38,
   "metadata": {},
   "outputs": [
    {
     "data": {
      "text/plain": [
       "Text(0, 0.5, 'Error Rate')"
      ]
     },
     "execution_count": 38,
     "metadata": {},
     "output_type": "execute_result"
    },
    {
     "data": {
      "image/png": "[encoded data removed]",
      "text/plain": [
       "<Figure size 720x432 with 1 Axes>"
      ]
     },
     "metadata": {
      "needs_background": "light"
     },
     "output_type": "display_data"
    }
   ],
   "source": [
    "plt.figure(figsize=(10,6))\n",
    "plt.plot(range(1,15),error_rate,color='blue', linestyle='dashed', marker='o', markerfacecolor='red', markersize=10)\n",
    "plt.xlabel('K')\n",
    "plt.ylabel('Error Rate')"
   ]
  },
  {
   "cell_type": "code",
   "execution_count": 39,
   "metadata": {},
   "outputs": [],
   "source": [
    "knn = KNeighborsClassifier(n_neighbors = 1)"
   ]
  },
  {
   "cell_type": "code",
   "execution_count": 40,
   "metadata": {},
   "outputs": [
    {
     "data": {
      "text/plain": [
       "KNeighborsClassifier(n_neighbors=1)"
      ]
     },
     "execution_count": 40,
     "metadata": {},
     "output_type": "execute_result"
    }
   ],
   "source": [
    "knn.fit(X_train,y_train)"
   ]
  },
  {
   "cell_type": "code",
   "execution_count": 41,
   "metadata": {},
   "outputs": [],
   "source": [
    "knn_predictions = knn.predict(X_test)"
   ]
  },
  {
   "cell_type": "code",
   "execution_count": 42,
   "metadata": {},
   "outputs": [
    {
     "name": "stdout",
     "output_type": "stream",
     "text": [
      "              precision    recall  f1-score   support\n",
      "\n",
      "           0       0.98      0.99      0.99     25486\n",
      "           1       0.93      0.81      0.87      2556\n",
      "\n",
      "    accuracy                           0.98     28042\n",
      "   macro avg       0.95      0.90      0.93     28042\n",
      "weighted avg       0.98      0.98      0.98     28042\n",
      "\n"
     ]
    }
   ],
   "source": [
    "print(classification_report(y_test,knn_predictions))"
   ]
  },
  {
   "cell_type": "code",
   "execution_count": 43,
   "metadata": {},
   "outputs": [
    {
     "name": "stdout",
     "output_type": "stream",
     "text": [
      "[[25412    74]\n",
      " [   82  2474]]\n"
     ]
    }
   ],
   "source": [
    "print(confusion_matrix(y_test,log_predictions))"
   ]
  },
  {
   "cell_type": "code",
   "execution_count": null,
   "metadata": {},
   "outputs": [],
   "source": []
  }
 ],
 "metadata": {
  "environment": {
   "name": "common-cpu.m59",
   "type": "gcloud",
   "uri": "gcr.io/deeplearning-platform-release/base-cpu:m59"
  },
  "kernelspec": {
   "display_name": "Python 3",
   "language": "python",
   "name": "python3"
  },
  "language_info": {
   "codemirror_mode": {
    "name": "ipython",
    "version": 3
   },
   "file_extension": ".py",
   "mimetype": "text/x-python",
   "name": "python",
   "nbconvert_exporter": "python",
   "pygments_lexer": "ipython3",
   "version": "3.7.8"
  }
 },
 "nbformat": 4,
 "nbformat_minor": 4
}
